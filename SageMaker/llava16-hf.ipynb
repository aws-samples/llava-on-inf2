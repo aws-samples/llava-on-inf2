{
 "cells": [
  {
   "cell_type": "markdown",
   "id": "41b42145-05e0-40ad-8a72-36b589fa511e",
   "metadata": {},
   "source": [
    "### Model Deployment with Llava1.6 on Inf2"
   ]
  },
  {
   "cell_type": "markdown",
   "id": "3af823ed-2b1c-49b2-b288-fb043887f11b",
   "metadata": {},
   "source": [
    "#### Init SageMaker Runtime"
   ]
  },
  {
   "cell_type": "code",
   "execution_count": 54,
   "id": "2237042f-9fd3-4b9c-96c0-1a769d45c5f1",
   "metadata": {
    "tags": []
   },
   "outputs": [],
   "source": [
    "import sagemaker\n",
    "from sagemaker import image_uris\n",
    "import boto3\n",
    "import os\n",
    "import time\n",
    "import json\n",
    "from pathlib import Path\n",
    "from sagemaker.utils import name_from_base\n",
    "\n",
    "role = sagemaker.get_execution_role()  # execution role for the endpoint\n",
    "sess = sagemaker.session.Session()  # sagemaker session for interacting with different AWS APIs\n",
    "default_bucket = sess.default_bucket()  # bucket to house artifacts\n",
    "region = sess._region_name\n"
   ]
  },
  {
   "cell_type": "code",
   "execution_count": 55,
   "id": "6874159d-5f6c-47ac-b348-d46acffdd951",
   "metadata": {
    "tags": []
   },
   "outputs": [
    {
     "name": "stdout",
     "output_type": "stream",
     "text": [
      "Writing serving.properties\n"
     ]
    }
   ],
   "source": [
    "%%writefile serving.properties\n",
    "engine=Python\n",
    "option.model_id=cszhzleo/LLaVA-1.6-Mistral-7B-nc2-bs1-token4096-neuron-219\n",
    "option.tensor_parallel_degree=2"
   ]
  },
  {
   "cell_type": "code",
   "execution_count": 56,
   "id": "593de03d-057b-403a-9471-03bf53f0818c",
   "metadata": {
    "tags": []
   },
   "outputs": [
    {
     "name": "stdout",
     "output_type": "stream",
     "text": [
      "code/\n",
      "code/utils.py\n",
      "code/model.py\n",
      "code/requirements.txt\n",
      "code/serving.properties\n"
     ]
    }
   ],
   "source": [
    "# Construct code artifacts tar\n",
    "code_tarname = 'code'\n",
    "\n",
    "!mkdir -p {code_tarname}\n",
    "!rm -rf {code_tarname}.tar.gz\n",
    "!rm -rf {code_tarname}/.ipynb_checkpoints\n",
    "\n",
    "!cp model.py {code_tarname}/\n",
    "!cp utils.py {code_tarname}/\n",
    "!cp requirements.txt {code_tarname}/\n",
    "!mv serving.properties {code_tarname}/\n",
    "!tar czvf {code_tarname}.tar.gz {code_tarname}/"
   ]
  },
  {
   "cell_type": "code",
   "execution_count": 57,
   "id": "7f8506da-b01d-4155-b013-3cbacddf3c14",
   "metadata": {
    "tags": []
   },
   "outputs": [],
   "source": [
    "s3_code_artifact = sess.upload_data(f\"{code_tarname}.tar.gz\", \n",
    "                                    default_bucket, \n",
    "                                    sagemaker.utils.name_from_base(\"tmp/v0\"))"
   ]
  },
  {
   "cell_type": "code",
   "execution_count": 58,
   "id": "ccd11c94-c883-42ec-9589-e5053cf4384c",
   "metadata": {
    "tags": []
   },
   "outputs": [],
   "source": [
    "# Specify a inference container version, \n",
    "# - https://github.com/aws/deep-learning-containers/blob/master/available_images.md#large-model-inference-containers\n",
    "inference_image_uri = f\"763104351884.dkr.ecr.{region}.amazonaws.com/djl-inference:0.29.0-neuronx-sdk2.19.1\"\n",
    "\n",
    "# name a SageMaker Endpoint\n",
    "#endpoint_name = sagemaker.utils.name_from_base(code_tarname)\n",
    "endpoint_name = \"llava16-endpoint-hf\""
   ]
  },
  {
   "cell_type": "code",
   "execution_count": 59,
   "id": "f8c945e8-cb18-4c9a-a229-b0204ef2fb85",
   "metadata": {
    "tags": []
   },
   "outputs": [],
   "source": [
    "from sagemaker.model import Model\n",
    "\n",
    "model = Model(image_uri=inference_image_uri,\n",
    "              model_data=s3_code_artifact, \n",
    "              role=role)"
   ]
  },
  {
   "cell_type": "code",
   "execution_count": 60,
   "id": "59b31493-e5ef-4aca-869f-60523338397d",
   "metadata": {
    "tags": []
   },
   "outputs": [
    {
     "name": "stderr",
     "output_type": "stream",
     "text": [
      "Your model is not compiled. Please compile your model before using Inferentia.\n"
     ]
    },
    {
     "name": "stdout",
     "output_type": "stream",
     "text": [
      "-------------------!"
     ]
    }
   ],
   "source": [
    "model.deploy(initial_instance_count = 1,\n",
    "             instance_type = 'ml.inf2.xlarge', \n",
    "             endpoint_name = endpoint_name,\n",
    "             container_startup_health_check_timeout = 900\n",
    "            )"
   ]
  },
  {
   "cell_type": "code",
   "execution_count": 61,
   "id": "9133c77b-17c7-4d94-b6e6-23489d730cbe",
   "metadata": {
    "tags": []
   },
   "outputs": [],
   "source": [
    "from sagemaker import serializers, deserializers\n",
    "\n",
    "predictor = sagemaker.Predictor(\n",
    "            endpoint_name=endpoint_name,\n",
    "            sagemaker_session=sess,\n",
    "            serializer=serializers.JSONSerializer(),\n",
    "            deserializer=deserializers.StringDeserializer(),\n",
    "            )"
   ]
  },
  {
   "cell_type": "code",
   "execution_count": 62,
   "id": "01f6e78a-fdd1-4e2a-bd28-bf4d0a081d62",
   "metadata": {
    "tags": []
   },
   "outputs": [],
   "source": [
    "from io import BytesIO\n",
    "from PIL import Image\n",
    "import requests\n",
    "import base64\n",
    "def load_image(image_file):\n",
    "    if image_file.startswith(\"http\") or image_file.startswith(\"https\"):\n",
    "        response = requests.get(image_file)\n",
    "        image = Image.open(BytesIO(response.content)).convert(\"RGB\")\n",
    "    else:\n",
    "        image = Image.open(image_file).convert(\"RGB\")\n",
    "    return image\n",
    "\n",
    "def image_path_handler(image_path):\n",
    "    img = load_image(image_path)\n",
    "    byte_io = BytesIO()\n",
    "    img.save(byte_io, format='PNG')\n",
    "    encoded_image = base64.b64encode(byte_io.getvalue()).decode('utf-8')\n",
    "    return encoded_image"
   ]
  },
  {
   "cell_type": "code",
   "execution_count": 63,
   "id": "653ccecb-5000-4932-9866-2764c0ccf7c1",
   "metadata": {
    "tags": []
   },
   "outputs": [],
   "source": [
    "image_file=\"https://llava-vl.github.io/static/images/view.jpg\"\n",
    "prompt = \"What are the things I should be cautious about when I visit here?\"\n",
    "byte_image=image_path_handler(image_file)"
   ]
  },
  {
   "cell_type": "code",
   "execution_count": 64,
   "id": "544629d5-7101-4943-96f3-fe8f11fbe640",
   "metadata": {
    "tags": []
   },
   "outputs": [],
   "source": [
    "result=predictor.predict(\n",
    "    {        \n",
    "        \"prompt\":prompt,\n",
    "        \"image\": byte_image,\n",
    "        \"parameters\": {\n",
    "            \"top_k\": 100,\n",
    "            \"top_p\": 0.1,\n",
    "            \"temperature\": 0.2,\n",
    "        }}\n",
    ")"
   ]
  },
  {
   "cell_type": "code",
   "execution_count": 65,
   "id": "91c321cc-7360-4a89-8d58-e300e9417ec5",
   "metadata": {
    "tags": []
   },
   "outputs": [
    {
     "name": "stdout",
     "output_type": "stream",
     "text": [
      " When visiting a location like the one shown in the image, which appears to be a serene lake with a dock and surrounded by forest and mountains, here are several things to be cautious about:\n",
      "\n",
      "1. **Water Safety**: If you plan to swim or engage in water activities, make sure you are aware of the water's depth and currents. Lakes can have unseen hazards like underwater rocks or sudden drop-offs.\n",
      "\n",
      "2. **Weather Conditions**: Mountain weather can change rapidly. Check the forecast before you go and be prepared for sudden changes in weather.\n",
      "\n",
      "3. **Wildlife**: Forested areas can be home to wildlife. Be aware of your surroundings and know what to do if you encounter wildlife.\n",
      "\n",
      "4. **Leave No Trace**: Practice Leave No Trace principles to protect the environment. This includes packing out all trash, staying on designated trails, and not disturbing the natural habitat.\n",
      "\n",
      "5. **Navigation**: Have a map or GPS device to navigate the area, especially if you plan to hike or explore the surrounding forest or mountains.\n",
      "\n",
      "6. **Emergency Preparedness**: Have a basic first aid kit and know how to use it. Also, have a way to contact emergency services if needed.\n",
      "\n",
      "7. **Dress Appropriately**: Wear appropriate clothing for the weather and activities you plan to do. This includes sturdy footwear for walking on the dock or uneven terrain.\n",
      "\n",
      "8. **Respect Local Regulations**: Follow any posted signs or regulations, which may include restrictions on camping, fires, or certain activities.\n",
      "\n",
      "9. **Hydration and Nutrition**: Bring enough water and food for your trip, especially if you're planning to hike or spend a significant amount of time outdoors.\n",
      "\n",
      "10. **Insects and Plants**: Be aware of insects like mosquitoes and ticks, and know how to protect yourself from them. Also, be cautious of plants that could be harmful if ingested.\n",
      "\n",
      "Always let someone know your plans and expected return time when venturing into natural areas. \n"
     ]
    }
   ],
   "source": [
    "print(result)"
   ]
  },
  {
   "cell_type": "code",
   "execution_count": 66,
   "id": "58ce12ee-c1c7-4e39-92a5-e3fdcec988c2",
   "metadata": {
    "tags": []
   },
   "outputs": [],
   "source": [
    "smr_client = boto3.client(\"sagemaker-runtime\")\n",
    "\n",
    "response_model = smr_client.invoke_endpoint(\n",
    "            EndpointName=endpoint_name,\n",
    "            Body=json.dumps(\n",
    "            {        \n",
    "                \"prompt\":prompt,\n",
    "                \"image\": byte_image,\n",
    "                \"parameters\": {\n",
    "                \"top_k\": 100,\n",
    "                \"top_p\": 0.1,\n",
    "                \"temperature\": 0.2,\n",
    "            }}\n",
    "            ),\n",
    "            ContentType=\"application/json\",\n",
    "        )\n",
    "\n",
    "result=response_model['Body'].read().decode('utf8')"
   ]
  },
  {
   "cell_type": "code",
   "execution_count": 67,
   "id": "688c31c8-44bd-41ca-96de-28312384dadf",
   "metadata": {},
   "outputs": [
    {
     "name": "stdout",
     "output_type": "stream",
     "text": [
      " When visiting a location like the one shown in the image, which appears to be a serene lake with a dock and surrounded by forest and mountains, here are several things to be cautious about:\n",
      "\n",
      "1. **Water Safety**: If you plan to swim or engage in water activities, make sure you are aware of the water's depth and currents. Lakes can have unseen hazards like underwater rocks or sudden drop-offs.\n",
      "\n",
      "2. **Weather Conditions**: Mountain weather can change rapidly. Check the forecast before you go and be prepared for sudden changes in weather.\n",
      "\n",
      "3. **Wildlife**: Forested areas can be home to wildlife. Be aware of your surroundings and know what to do if you encounter wildlife.\n",
      "\n",
      "4. **Leave No Trace**: Practice Leave No Trace principles to protect the environment. This includes packing out all trash, staying on designated trails, and not disturbing the natural habitat.\n",
      "\n",
      "5. **Navigation**: Have a map or GPS device to navigate the area, especially if you plan to hike or explore the surrounding forest or mountains.\n",
      "\n",
      "6. **Emergency Preparedness**: Have a basic first aid kit and know how to use it. Also, have a way to contact emergency services if needed.\n",
      "\n",
      "7. **Dress Appropriately**: Wear appropriate clothing for the weather and activities you plan to do. This includes sturdy footwear for walking on the dock or uneven terrain.\n",
      "\n",
      "8. **Respect Local Regulations**: Follow any posted signs or regulations, which may include restrictions on camping, fires, or certain activities.\n",
      "\n",
      "9. **Hydration and Nutrition**: Bring enough water and food for your trip, especially if you're planning to hike or spend a significant amount of time outdoors.\n",
      "\n",
      "10. **Insects and Plants**: Be aware of insects like mosquitoes and ticks, and know how to protect yourself from them. Also, be cautious of plants that could be harmful if ingested.\n",
      "\n",
      "Always let someone know your plans and expected return time when venturing into natural areas. \n"
     ]
    }
   ],
   "source": [
    "print(result)"
   ]
  },
  {
   "cell_type": "code",
   "execution_count": 68,
   "id": "cabb5ca6-faf9-45ee-828b-228b4f4967b6",
   "metadata": {},
   "outputs": [],
   "source": [
    "predictor.delete_model()\n",
    "predictor.delete_endpoint()"
   ]
  },
  {
   "cell_type": "code",
   "execution_count": null,
   "id": "2f4ba127-ecd0-4873-b60a-6d93c029dbf8",
   "metadata": {},
   "outputs": [],
   "source": []
  }
 ],
 "metadata": {
  "kernelspec": {
   "display_name": "conda_pytorch_p310",
   "language": "python",
   "name": "conda_pytorch_p310"
  },
  "language_info": {
   "codemirror_mode": {
    "name": "ipython",
    "version": 3
   },
   "file_extension": ".py",
   "mimetype": "text/x-python",
   "name": "python",
   "nbconvert_exporter": "python",
   "pygments_lexer": "ipython3",
   "version": "3.10.12"
  }
 },
 "nbformat": 4,
 "nbformat_minor": 5
}
